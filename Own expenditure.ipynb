{
 "cells": [
  {
   "cell_type": "code",
   "execution_count": 1,
   "id": "1e5a3ea7",
   "metadata": {},
   "outputs": [],
   "source": [
    "import pandas as pd\n",
    "import matplotlib.pyplot as plt\n",
    "import numpy as np\n",
    "import requests\n",
    "import seaborn as sns\n",
    "\n",
    "#Breakdown of Salary and expenditure to display overall exppenditure and disposable income"
   ]
  },
  {
   "cell_type": "code",
   "execution_count": 2,
   "id": "0df46fee",
   "metadata": {},
   "outputs": [
    {
     "data": {
      "text/html": [
       "<div>\n",
       "<style scoped>\n",
       "    .dataframe tbody tr th:only-of-type {\n",
       "        vertical-align: middle;\n",
       "    }\n",
       "\n",
       "    .dataframe tbody tr th {\n",
       "        vertical-align: top;\n",
       "    }\n",
       "\n",
       "    .dataframe thead th {\n",
       "        text-align: right;\n",
       "    }\n",
       "</style>\n",
       "<table border=\"1\" class=\"dataframe\">\n",
       "  <thead>\n",
       "    <tr style=\"text-align: right;\">\n",
       "      <th></th>\n",
       "      <th>Name</th>\n",
       "      <th>Rent</th>\n",
       "      <th>Electricity</th>\n",
       "      <th>Internet</th>\n",
       "      <th>Car Insurance</th>\n",
       "      <th>Bins</th>\n",
       "      <th>Cost of Living</th>\n",
       "      <th>Health Insurance</th>\n",
       "    </tr>\n",
       "  </thead>\n",
       "  <tbody>\n",
       "    <tr>\n",
       "      <th>0</th>\n",
       "      <td>Karl</td>\n",
       "      <td>900</td>\n",
       "      <td>125</td>\n",
       "      <td>30.0</td>\n",
       "      <td>75</td>\n",
       "      <td>15.0</td>\n",
       "      <td>900</td>\n",
       "      <td>NaN</td>\n",
       "    </tr>\n",
       "    <tr>\n",
       "      <th>1</th>\n",
       "      <td>Hanna</td>\n",
       "      <td>900</td>\n",
       "      <td>125</td>\n",
       "      <td>NaN</td>\n",
       "      <td>75</td>\n",
       "      <td>NaN</td>\n",
       "      <td>900</td>\n",
       "      <td>55.0</td>\n",
       "    </tr>\n",
       "  </tbody>\n",
       "</table>\n",
       "</div>"
      ],
      "text/plain": [
       "    Name  Rent  Electricity  Internet  Car Insurance  Bins  Cost of Living  \\\n",
       "0   Karl   900          125      30.0             75  15.0             900   \n",
       "1  Hanna   900          125       NaN             75   NaN             900   \n",
       "\n",
       "   Health Insurance  \n",
       "0               NaN  \n",
       "1              55.0  "
      ]
     },
     "execution_count": 2,
     "metadata": {},
     "output_type": "execute_result"
    }
   ],
   "source": [
    "Bills = [\n",
    "    {'Name' : 'Karl' ,'Rent' : 900, 'Electricity' : 125, 'Internet' : 30, 'Car Insurance' : 75, 'Bins' : 15, 'Cost of Living':900},\n",
    "    {'Name' : 'Hanna', 'Rent' : 900, 'Electricity' : 125, 'Car Insurance' : 75,'Health Insurance' : 55, 'Cost of Living' : 900}\n",
    "]\n",
    "df= pd.DataFrame(Bills)\n",
    "df"
   ]
  },
  {
   "cell_type": "code",
   "execution_count": null,
   "id": "13387b96",
   "metadata": {},
   "outputs": [],
   "source": [
    "df = df.fillna(0)\n",
    "df.set_index('Name', inplace=True)"
   ]
  },
  {
   "cell_type": "code",
   "execution_count": null,
   "id": "e4196d4e",
   "metadata": {},
   "outputs": [],
   "source": [
    "for ind, row in df.iterrows():\n",
    "    df.loc[ind,\"Total Expenditure\"] = row['Rent'] + row['Electricity'] + row['Internet'] + row['Car Insurance'] + row['Bins'] + row['Health Insurance']+ row['Cost of Living']\n",
    "df"
   ]
  },
  {
   "cell_type": "code",
   "execution_count": null,
   "id": "00e86e66",
   "metadata": {},
   "outputs": [],
   "source": [
    "np.array(df)"
   ]
  },
  {
   "cell_type": "code",
   "execution_count": null,
   "id": "5382ec8d",
   "metadata": {},
   "outputs": [],
   "source": [
    "#Karls Income = 51000 and Hannas Income = 59000\n",
    "\n",
    "income = float(input(\"please enter your taxable income: \"))\n",
    "\n",
    "tax = 0.0 \n",
    "if income <= 35300:\n",
    "    tax = income *.2\n",
    "else:\n",
    "    tax = 7060 + .4 * (income - 35300)\n",
    "    \n",
    "    remainder = income - tax\n",
    "    print(tax)\n",
    "    print(remainder)"
   ]
  },
  {
   "cell_type": "code",
   "execution_count": null,
   "id": "a81f801d",
   "metadata": {},
   "outputs": [],
   "source": [
    "Kincome = 37660\n",
    "Hincome = 42460"
   ]
  },
  {
   "cell_type": "code",
   "execution_count": null,
   "id": "a4c4b8c6",
   "metadata": {},
   "outputs": [],
   "source": [
    "def div12(x):\n",
    "    return x / 12\n",
    "Kincome = div12(Kincome)\n",
    "Hincome = div12(Hincome)"
   ]
  },
  {
   "cell_type": "code",
   "execution_count": null,
   "id": "86a48c32",
   "metadata": {},
   "outputs": [],
   "source": [
    "df.insert(loc=7, column= \"Wage\", value=[Kincome,Hincome])\n",
    "df"
   ]
  },
  {
   "cell_type": "code",
   "execution_count": null,
   "id": "0e8a7371",
   "metadata": {},
   "outputs": [],
   "source": [
    "df.insert(loc=9, column= \"Remainder\", value= df['Wage'] - df['Total Expenditure'])\n",
    "df"
   ]
  },
  {
   "cell_type": "code",
   "execution_count": null,
   "id": "a0141199",
   "metadata": {},
   "outputs": [],
   "source": [
    "#When Salary, Tax, Bills and other expenditure are accounted for there is 1093 + 1483 leftover which combined would leave just over 2500 a month to save."
   ]
  }
 ],
 "metadata": {
  "celltoolbar": "Raw Cell Format",
  "kernelspec": {
   "display_name": "Python 3 (ipykernel)",
   "language": "python",
   "name": "python3"
  },
  "language_info": {
   "codemirror_mode": {
    "name": "ipython",
    "version": 3
   },
   "file_extension": ".py",
   "mimetype": "text/x-python",
   "name": "python",
   "nbconvert_exporter": "python",
   "pygments_lexer": "ipython3",
   "version": "3.9.7"
  }
 },
 "nbformat": 4,
 "nbformat_minor": 5
}
